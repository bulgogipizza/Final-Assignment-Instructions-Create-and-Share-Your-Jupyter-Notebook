{
 "cells": [
  {
   "cell_type": "markdown",
   "id": "b637892b-7bcc-4c38-a02a-098ecddb5208",
   "metadata": {},
   "source": [
    "# Data Science Tools and Ecosystems"
   ]
  },
  {
   "cell_type": "markdown",
   "id": "3a5b3235-86ee-4f33-bb61-9efb761077c4",
   "metadata": {},
   "source": [
    "In this notebook, Data Science Tools and Ecosystem are summarized. "
   ]
  },
  {
   "cell_type": "markdown",
   "id": "b25bdc6e-9494-4ab9-aadc-c3d0d55b727a",
   "metadata": {},
   "source": [
    "<b/>Objectives<b/>\n",
    "* List popular languages in Data Science field\n",
    "* Libraries used by Data Scientits\n",
    "* Making a table with markdown cell\n",
    "* Evaluating arithmetic expressions in Python"
   ]
  },
  {
   "cell_type": "markdown",
   "id": "5e65b92d-f6c2-4da9-9d34-78368f50d3fe",
   "metadata": {},
   "source": [
    "Some of the popular languages that Data Scientists use are:\n",
    "1. Python\n",
    "2. C++\n",
    "3. Java"
   ]
  },
  {
   "cell_type": "markdown",
   "id": "9ffd69f6-58a1-4143-be93-7b1bcd47fb20",
   "metadata": {},
   "source": [
    "Some of the commonly used libraries used by Data Scientists include:\n",
    "1. Pandas\n",
    "2. NumPy\n",
    "3. Matplotlib\n"
   ]
  },
  {
   "cell_type": "markdown",
   "id": "52806ce4-5639-4c03-ab84-5994a3de62d6",
   "metadata": {},
   "source": [
    "|Data Science Tools|\n",
    "|:--|\n",
    "|Jupyter Notebook|\n",
    "|GitHub|\n",
    "|RStudio|"
   ]
  },
  {
   "cell_type": "markdown",
   "id": "78a8b8ee-1b36-4919-bc3b-619f94a7db60",
   "metadata": {},
   "source": [
    "### Below are a few examples of evaluating arithmetic expressions in Python."
   ]
  },
  {
   "cell_type": "code",
   "execution_count": 3,
   "id": "966583c0-0b94-4c32-a849-9f4ee67a4a0b",
   "metadata": {},
   "outputs": [
    {
     "data": {
      "text/plain": [
       "17"
      ]
     },
     "execution_count": 3,
     "metadata": {},
     "output_type": "execute_result"
    }
   ],
   "source": [
    "#This is a simple arithmetic expression to multiply then add integers.\n",
    "(3*4)+5"
   ]
  },
  {
   "cell_type": "code",
   "execution_count": 4,
   "id": "ed78aa1f-d4fa-40b8-a3ec-c3461fa1767f",
   "metadata": {},
   "outputs": [
    {
     "data": {
      "text/plain": [
       "3.3333333333333335"
      ]
     },
     "execution_count": 4,
     "metadata": {},
     "output_type": "execute_result"
    }
   ],
   "source": [
    "#This will convert 200 minutes to hours by diving by 60\n",
    "200/60"
   ]
  },
  {
   "cell_type": "markdown",
   "id": "49a715c2-0418-4a25-91ad-b4a0cc4756a4",
   "metadata": {},
   "source": [
    "## Author\n",
    "Seokwon Daniel Lee"
   ]
  },
  {
   "cell_type": "code",
   "execution_count": null,
   "id": "f588397f-8cba-4e02-8bad-a11830633f50",
   "metadata": {},
   "outputs": [],
   "source": []
  }
 ],
 "metadata": {
  "kernelspec": {
   "display_name": "Python [conda env:base] *",
   "language": "python",
   "name": "conda-base-py"
  },
  "language_info": {
   "codemirror_mode": {
    "name": "ipython",
    "version": 3
   },
   "file_extension": ".py",
   "mimetype": "text/x-python",
   "name": "python",
   "nbconvert_exporter": "python",
   "pygments_lexer": "ipython3",
   "version": "3.12.7"
  }
 },
 "nbformat": 4,
 "nbformat_minor": 5
}
